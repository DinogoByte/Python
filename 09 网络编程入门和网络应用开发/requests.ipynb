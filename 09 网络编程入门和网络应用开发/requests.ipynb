{
 "cells": [
  {
   "cell_type": "code",
   "execution_count": null,
   "metadata": {},
   "outputs": [],
   "source": [
    "from threading import Thread\n",
    "from time import time\n",
    "\n",
    "import requests\n",
    "\n",
    "\n",
    "class DownloadHandler(Thread):\n",
    "\n",
    "    def __init__(self, url):\n",
    "        super().__init__() # 因为父类的初始值无法继承，需要调用下父类构造函数\n",
    "        self.url = url\n",
    "\n",
    "    def run(self):\n",
    "        filename = self.url[self.url.rfind('/') + 1:]"
   ]
  }
 ],
 "metadata": {
  "interpreter": {
   "hash": "aee8b7b246df8f9039afb4144a1f6fd8d2ca17a180786b69acc140d282b71a49"
  },
  "kernelspec": {
   "display_name": "Python 3.7.6 64-bit",
   "name": "python3"
  },
  "language_info": {
   "name": "python",
   "version": ""
  },
  "orig_nbformat": 4
 },
 "nbformat": 4,
 "nbformat_minor": 2
}