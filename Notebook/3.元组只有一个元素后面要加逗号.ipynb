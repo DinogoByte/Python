{
 "cells": [
  {
   "cell_type": "code",
   "execution_count": 1,
   "source": [
    "# 不加逗号时是什么\n",
    "e = ('a')\n",
    "print(e)\n",
    "print(type(e))\n",
    "\n",
    "\n",
    "# 元组中只包含一个元素时，需要在元素后面添加逗号\n",
    "f = ('a', ) \n",
    "print(f)\n",
    "print(type(f))"
   ],
   "outputs": [
    {
     "output_type": "stream",
     "name": "stdout",
     "text": [
      "a\n",
      "<class 'str'>\n",
      "('a',)\n",
      "<class 'tuple'>\n"
     ]
    }
   ],
   "metadata": {}
  },
  {
   "cell_type": "code",
   "execution_count": 1,
   "source": [
    "# 参数组合 必备参数 + 默认参数 + 可变参数 + 关键字参数\n",
    "def compose(a, b, c=0, *number, **args):\n",
    "    print('a =', a, 'b =', b, 'c =', c, 'number =', number, 'args =', args)\n",
    "    return\n",
    "\n",
    "number = (4, 5, 6)\n",
    "eg     = ('十三', '十四', '十五')\n",
    "args   = {'name': '张三', 'age': '28', 'sex': 'woman'}\n",
    "compose(1, 2)\n",
    "compose(1, 2, 3)\n",
    "compose(1, 2, 3, *number)\n",
    "compose(1, 2, *number)   # 当默认参数和可变函数一起使用，不传入默认参数且传入可变参数的时候，可变参数的元组前几个参数会填充到默认参数位置上\n",
    "# compose(1, 2, *eg)\n",
    "compose(1, 2, **args)\n",
    "compose(1, 2, 3, *number, **args)"
   ],
   "outputs": [
    {
     "output_type": "stream",
     "name": "stdout",
     "text": [
      "a = 1 b = 2 c = 0 number = () args = {}\n",
      "a = 1 b = 2 c = 3 number = () args = {}\n",
      "a = 1 b = 2 c = 3 number = (4, 5, 6) args = {}\n",
      "a = 1 b = 2 c = 4 number = (5, 6) args = {}\n",
      "a = 1 b = 2 c = 0 number = () args = {'name': '张三', 'age': '28', 'sex': 'woman'}\n",
      "a = 1 b = 2 c = 3 number = (4, 5, 6) args = {'name': '张三', 'age': '28', 'sex': 'woman'}\n"
     ]
    }
   ],
   "metadata": {}
  }
 ],
 "metadata": {
  "orig_nbformat": 4,
  "language_info": {
   "name": "python",
   "version": "3.9.6",
   "mimetype": "text/x-python",
   "codemirror_mode": {
    "name": "ipython",
    "version": 3
   },
   "pygments_lexer": "ipython3",
   "nbconvert_exporter": "python",
   "file_extension": ".py"
  },
  "kernelspec": {
   "name": "python3",
   "display_name": "Python 3.9.6 64-bit"
  },
  "interpreter": {
   "hash": "aee8b7b246df8f9039afb4144a1f6fd8d2ca17a180786b69acc140d282b71a49"
  }
 },
 "nbformat": 4,
 "nbformat_minor": 2
}