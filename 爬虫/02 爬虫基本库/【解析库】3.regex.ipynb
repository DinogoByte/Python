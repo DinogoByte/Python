{
 "cells": [
  {
   "cell_type": "markdown",
   "source": [
    "大纲\n",
    "-\n",
    "1. 基础知识\n",
    "2. matc（匹配）\n",
    "3. search（查找）\n",
    "4. findall（多重匹配）\n",
    "5. sub（替换）\n",
    "6. compile（编译表达式）"
   ],
   "metadata": {}
  },
  {
   "cell_type": "markdown",
   "source": [
    "### 1. 基础知识\n",
    "\n",
    "Python 中的正则库是 [re](https://docs.python.org/zh-cn/3/library/re.html#module-re)，内部库无需安装，提供与 Perl 语言类似的正则表达式匹配操作。\n",
    "> 尽管「正则表达式」的正式定义仅限于描述正则语言的表达式，但 re 支持的一些扩展已经超出了正则语言的范畴\n",
    "\n",
    "资源：\n",
    "- [正则表达式30分钟入门教程](https://deerchao.cn/tutorials/regex/regex.htm)：正则比较全的语法\n",
    "- [可视化练习](https://wangwl.net/static/projects/visualRegex/#)：顾名思义\n",
    "- [regex101](https://regex101.com/)：带有解释\n",
    "\n",
    "常用的匹配规则\n",
    "|  模　　式 | 描　　述                                                                                                                             |\n",
    "| ---------- | ------------------------------------------------------------------------------------------------ |\n",
    "|  \\w          | 匹配字母、数字及下划线                                                                                                      |\n",
    "|  \\W          | 匹配不是字母、数字及下划线的字符                                                                                     |\n",
    "|  \\s           | 匹配任意空白字符，等价于 [\\t\\n\\r\\f]                                                                                     |\n",
    "|  \\S           | 匹配任意非空字符                                                                                                                |\n",
    "|  \\d           | 匹配任意数字，等价于 [0-9]                                                                                                 |\n",
    "|  \\D          | 匹配任意非数字的字符                                                                                                         |\n",
    "|  \\A           | 匹配字符串开头                                                                                                                   |\n",
    "|  \\Z           | 匹配字符串结尾，如果存在换行，只匹配到换行前的结束字符串                                             |\n",
    "|  \\z           | 匹配字符串结尾，如果存在换行，同时还会匹配换行符                                                          |\n",
    "|  \\G           | 匹配最后匹配完成的位置                                                                                                      |\n",
    "|  \\n           | 匹配一个换行符                                                                                                                   |\n",
    "|  \\t            | 匹配一个制表符                                                                                                                   |\n",
    "|  ^            | 匹配一行字符串的开头                                                                                                         |\n",
    "|  $            | 匹配一行字符串的结尾                                                                                                         |\n",
    "|  .              | 匹配任意字符，除了换行符，当 re.DOTALL 标记被指定时，则可以匹配包括换行符的任意字符 |\n",
    "|  [...]          | 用来表示一组字符，单独列出，比如 [amk] 匹配 a、m 或 k                                                        |\n",
    "|  [^...]       | 不在 [] 中的字符，比如 [^abc] 匹配除了 a、b、c 之外的字符                                                     |\n",
    "|  *             | 匹配 0 个或多个表达式                                                                                                          |\n",
    "|  +            | 匹配 1 个或多个表达式                                                                                                          |\n",
    "|  ?             | 匹配 0 个或 1 个前面的正则表达式定义的片段，非贪婪方式                                                      |\n",
    "|  {n}          | 精确匹配 n 个前面的表达式                                                                                                    |\n",
    "|  {n, m}     | 匹配 n 到 m 次由前面正则表达式定义的片段，贪婪方式                                                            |\n",
    "|  a|b         | 匹配 a 或 b                                                                                                                             |\n",
    "|  ( )           | 匹配括号内的表达式，也表示一个组                                                                                     |"
   ],
   "metadata": {}
  },
  {
   "cell_type": "markdown",
   "source": [
    "### 2. match\n",
    "\n",
    "向它传入要匹配的字符串以及正则表达式，就可以检测这个正则表达式是否匹配字符串。\n",
    "\n",
    "match 方法会尝试`从字符串的起始位置`匹配正则表达式，如果匹配，就返回匹配成功的结果；如果不匹配，就返回 None。\n",
    "\n",
    "如果你想定位 string 的任何位置，使用 search() 来替代\n",
    "> [search() vs. match()](https://docs.python.org/zh-cn/3/library/re.html#search-vs-match)"
   ],
   "metadata": {}
  },
  {
   "cell_type": "code",
   "execution_count": 1,
   "source": [
    "import re\n",
    "\n",
    "content = 'Hello 123 4567 World_This is a Regex Demo'\n",
    "print(len(content))\n",
    "result = re.match('^Hello\\s\\d\\d\\d\\s\\d{4}\\s\\w{10}', content)\n",
    "print(result)\n",
    "print(result.group())\n",
    "print(result.span())"
   ],
   "outputs": [
    {
     "output_type": "stream",
     "name": "stdout",
     "text": [
      "41\n",
      "<re.Match object; span=(0, 25), match='Hello 123 4567 World_This'>\n",
      "Hello 123 4567 World_This\n",
      "(0, 25)\n"
     ]
    }
   ],
   "metadata": {}
  },
  {
   "cell_type": "markdown",
   "source": [
    "match 方法中，第一个参数传入了正则表达式，第二个参数传入了要匹配的字符串。\n",
    "\n",
    "打印输出结果，可以看到结果是 SRE_Match 对象，这证明成功匹配。\n",
    "该对象有两个方法：\n",
    "- `group` 方法可以输出匹配到的内容，结果是 Hello 123 4567 World_This，这恰好是正则表达式规则所匹配的内容；\n",
    "- `span` 方法可以输出匹配的范围，结果是 (0, 25)，这就是匹配到的结果字符串在原字符串中的位置范围。"
   ],
   "metadata": {}
  },
  {
   "cell_type": "markdown",
   "source": [
    "##### 匹配目标\n",
    "刚才我们用 match 方法可以得到匹配到的字符串内容，但是如果想从字符串中`提取一部分内容`，该怎么办呢？就像最前面的实例一样，从一段文本中提取出邮件或电话号码等内容。\n",
    "\n",
    "这里可以使用 `() `括号将想提取的子字符串括起来。() 实际上标记了一个子表达式的开始和结束位置，被标记的每个子表达式会依次对应每一个分组，调用 group 方法传入分组的索引即可获取提取的结果。示例如下："
   ],
   "metadata": {}
  },
  {
   "cell_type": "code",
   "execution_count": 3,
   "source": [
    "import re\n",
    "\n",
    "content = 'Hello 1234567 World_This is a Regex Demo'\n",
    "result = re.match('^Hello\\s(\\d+)\\s(World)', content)\n",
    "print(result)\n",
    "print(result.group())\n",
    "print(result.group(1))\n",
    "print(result.group(2))\n",
    "print(result.span())"
   ],
   "outputs": [
    {
     "output_type": "stream",
     "name": "stdout",
     "text": [
      "<re.Match object; span=(0, 19), match='Hello 1234567 World'>\n",
      "Hello 1234567 World\n",
      "1234567\n",
      "World\n",
      "(0, 19)\n"
     ]
    }
   ],
   "metadata": {}
  },
  {
   "cell_type": "markdown",
   "source": [
    "##### 通用匹配\n",
    "出现空白字符我们就写 \\s 匹配，出现数字我们就用 \\d 匹配，这样的工作量比较大，利用万能匹配 `.*` 优化上面的匹配方式"
   ],
   "metadata": {}
  },
  {
   "cell_type": "code",
   "execution_count": 4,
   "source": [
    "import re\n",
    "\n",
    "content = 'Hello 123 4567 World_This is a Regex Demo'\n",
    "# result = re.match('^Hello\\s\\d\\d\\d\\s\\d{4}\\s\\w{10}', content)\n",
    "result = re.match('^Hello.*Demo$', content)\n",
    "print(result)\n",
    "print(result.group())\n",
    "print(result.span())"
   ],
   "outputs": [
    {
     "output_type": "stream",
     "name": "stdout",
     "text": [
      "<re.Match object; span=(0, 41), match='Hello 123 4567 World_This is a Regex Demo'>\n",
      "Hello 123 4567 World_This is a Regex Demo\n",
      "(0, 41)\n"
     ]
    }
   ],
   "metadata": {}
  },
  {
   "cell_type": "markdown",
   "source": [
    "##### 贪婪与非贪婪\n",
    "使用上面的通用匹配 .* 时，可能有时候匹配到的并不是我们想要的结果。"
   ],
   "metadata": {}
  },
  {
   "cell_type": "code",
   "execution_count": 5,
   "source": [
    "# \\d+ 匹配所有数字1-7\n",
    "import re\n",
    "\n",
    "content = 'Hello 1234567 World_This is a Regex Demo'\n",
    "result = re.match('^He.*(\\d+).*Demo$', content)\n",
    "print(result)\n",
    "print(result.group(1))"
   ],
   "outputs": [
    {
     "output_type": "stream",
     "name": "stdout",
     "text": [
      "<re.Match object; span=(0, 40), match='Hello 1234567 World_This is a Regex Demo'>\n",
      "7\n"
     ]
    }
   ],
   "metadata": {}
  },
  {
   "cell_type": "markdown",
   "source": [
    "这里就涉及一个`贪婪匹配`与`非贪婪匹配`的问题了。\n",
    "\n",
    "在贪婪匹配下，.* 会匹配尽可能多的字符。正则表达式中.* 后面是 \\d+，也就是至少一个数字，并没有指定具体多少个数字，因此，.* 就尽可能匹配多的字符，这里就把 123456 匹配了，给 \\d+ 留下一个可满足条件的数字 7，最后得到的内容就只有数字 7 了。\n",
    "\n",
    "这种情况怎么解决？"
   ],
   "metadata": {}
  },
  {
   "cell_type": "code",
   "execution_count": 7,
   "source": [
    "# \\d+ 匹配所有数字1-7\n",
    "import re\n",
    "\n",
    "content = 'Hello 1234567 World_This is a Regex Demo'\n",
    "result = re.match('^He.*?(\\d+).*Demo$', content)\n",
    "print(result)\n",
    "print(result.group(1))"
   ],
   "outputs": [
    {
     "output_type": "stream",
     "name": "stdout",
     "text": [
      "<re.Match object; span=(0, 40), match='Hello 1234567 World_This is a Regex Demo'>\n",
      "1234567\n"
     ]
    }
   ],
   "metadata": {}
  },
  {
   "cell_type": "markdown",
   "source": [
    "可以看到只需要使用非贪婪匹配就好了，非贪婪匹配的写法是 `.*?`，多了一个 ？\n",
    "\n",
    "匹配过程：当 .*? 匹配到 Hello 后面的空白字符时，再往后的字符就是数字了，而 \\d + 恰好可以匹配，那么这里 .*? 就不再进行匹配，交给 \\d+ 去匹配后面的数字。所以这样 .*? 匹配了尽可能少的字符，\\d+ 的结果就是 1234567 了。\n",
    "\n",
    "贪婪匹配是尽可能匹配多的字符，非贪婪匹配就是尽可能匹配少的字符\n",
    "\n",
    "但是有一个例子要注意"
   ],
   "metadata": {}
  },
  {
   "cell_type": "code",
   "execution_count": 8,
   "source": [
    "import re\n",
    "\n",
    "content = 'http://weibo.com/comment/kEraCN'\n",
    "result1 = re.match('http.*?comment/(.*?)', content)\n",
    "result2 = re.match('http.*?comment/(.*)', content)\n",
    "print('result1', result1.group(1))\n",
    "print('result2', result2.group(1))"
   ],
   "outputs": [
    {
     "output_type": "stream",
     "name": "stdout",
     "text": [
      "result1 \n",
      "result2 kEraCN\n"
     ]
    }
   ],
   "metadata": {}
  },
  {
   "cell_type": "markdown",
   "source": [
    "> 注意，如果匹配的结果在字符串结尾，.*? 就有可能匹配不到任何内容了，因为它会匹配尽可能少的字符。例如："
   ],
   "metadata": {}
  },
  {
   "cell_type": "markdown",
   "source": [
    "##### 修饰符\n",
    "正则表达式可以包含一些可选标志修饰符来控制匹配的模式。修饰符被指定为一个可选的标志。\n",
    "\n",
    "在代码里来说是[re.compile(pattern, flag)](https://docs.python.org/zh-cn/3/library/re.html#contents-of-module-re)的flag参数\n",
    "\n",
    "修饰符列表（在网页匹配中，较为常用的有 re.S 和 re.I。）\n",
    "-\n",
    "|  修饰符 | 描　　述                                                                                        |\n",
    "| -------- | ---------------------------------------------------------------------- |\n",
    "|  re.I      | 使匹配对大小写不敏感                                                                    |\n",
    "|  re.L     | 做本地化识别（locale-aware）匹配                                                |\n",
    "|  re.M    | 多行匹配，影响 ^ 和 $                                                                      |\n",
    "|  re.S     | 使。匹配包括换行在内的所有字符                                                      |\n",
    "|  re.U     | 根据 Unicode 字符集解析字符。这个标志影响 \\w、\\W、\\b 和 \\B         |\n",
    "|  re.X     | 该标志通过给予你更灵活的格式以便你将正则表达式写得更易于理解 |\n",
    "\n",
    "演示一下作用"
   ],
   "metadata": {}
  },
  {
   "cell_type": "code",
   "execution_count": null,
   "source": [
    "import re\n",
    "\n",
    "content = '''Hello 1234567 World_This\n",
    "is a Regex Demo\n",
    "'''\n",
    "result = re.match('^He.*?(\\d+).*?Demo$', content)\n",
    "print(result.group(1))"
   ],
   "outputs": [],
   "metadata": {}
  },
  {
   "cell_type": "markdown",
   "source": [
    "运行直接报错，也就是说正则表达式没有匹配到这个字符串，返回结果为 None，而我们又调用了 group 方法导致 AttributeError。\n",
    "\n",
    "为什么加了一个换行符，就匹配不到了呢？这是因为。匹配的是除换行符之外的任意字符，当遇到换行符时，.*? 就不能匹配了，所以导致匹配失败。只需加一个修饰符 re.S，即可修正。"
   ],
   "metadata": {}
  },
  {
   "cell_type": "code",
   "execution_count": 11,
   "source": [
    "import re\n",
    "\n",
    "content = '''Hello 1234567 World_This\n",
    "is a Regex Demo\n",
    "'''\n",
    "result = re.match('^He.*?(\\d+).*?Demo$', content, re.S)\n",
    "print(result.group(1))"
   ],
   "outputs": [
    {
     "output_type": "stream",
     "name": "stdout",
     "text": [
      "1234567\n",
      "RegexFlag.DOTALL\n"
     ]
    }
   ],
   "metadata": {}
  },
  {
   "cell_type": "markdown",
   "source": [
    "### 3. search\n",
    "match 方法是从字符串的开头开始匹配的，一旦开头不匹配，那么整个匹配就失败了，更适合用来检测某个字符串是否符合某个正则表达式的规则。\n",
    "\n",
    "就有了另外一个方法 search，它在匹配时会扫描整个字符串，然后返回第一个成功匹配的结果。"
   ],
   "metadata": {}
  },
  {
   "cell_type": "code",
   "execution_count": 14,
   "source": [
    "import re\n",
    "\n",
    "content = 'Extra stings Hello 1234567 World_This is a Regex Demo Extra stings'\n",
    "match_result = re.match('Hello.*?(\\d+).*?Demo', content)\n",
    "print(match_result)\n",
    "\n",
    "search_result = re.search('Hello.*?(\\d+).*?Demo', content)\n",
    "print(search_result)"
   ],
   "outputs": [
    {
     "output_type": "stream",
     "name": "stdout",
     "text": [
      "None\n",
      "1234567\n"
     ]
    }
   ],
   "metadata": {}
  },
  {
   "cell_type": "markdown",
   "source": [
    "再用几个例子看一下 search 的具体用法\n",
    "\n",
    "首先，这里有一段待匹配的 HTML 文本，接下来写几个正则表达式实例来实现相应信息的提取："
   ],
   "metadata": {}
  },
  {
   "cell_type": "markdown",
   "source": [
    "```\n",
    "html = '''<div id=\"songs-list\">\n",
    "<h2 class=\"title\"> 经典老歌 </h2>\n",
    "<p class=\"introduction\">\n",
    "经典老歌列表\n",
    "</p>\n",
    "<ul id=\"list\" class=\"list-group\">\n",
    "    <li data-view=\"2\"> 一路上有你 </li>\n",
    "    <li data-view=\"7\">\n",
    "        <a href=\"/2.mp3\" singer=\"任贤齐\"> 沧海一声笑 </a>\n",
    "    </li>\n",
    "    <li data-view=\"4\" class=\"active\">\n",
    "        <a href=\"/3.mp3\" singer=\"齐秦\"> 往事随风 </a>\n",
    "    </li>\n",
    "    <li data-view=\"6\"><a href=\"/4.mp3\" singer=\"beyond\"> 光辉岁月 </a></li>\n",
    "    <li data-view=\"5\"><a href=\"/5.mp3\" singer=\"陈慧琳\"> 记事本 </a></li>\n",
    "    <li data-view=\"5\">\n",
    "        <a href=\"/6.mp3\" singer=\"邓丽君\"> 但愿人长久 </a>\n",
    "    </li>\n",
    "</ul>\n",
    "</div>'''\n",
    "```\n",
    "1.我们尝试提取 class 为 active 的 li 节点内部的超链接包含的歌手名和歌名\n",
    "\n",
    "此时正则表达式可以以 li 开头，然后寻找一个标志符 active，中间的部分可以用 .? 来匹配。接下来，要提取 singer 这个属性值，所以还需要写入 singer=\"(.?)\"，这里需要提取的部分用小括号括起来，以便用 group 方法提取出来，它的两侧边界是双引号。然后还需要匹配 a 节点的文本，其中它的左边界是 >，右边界是 </a>。然后目标内容依然用 (.*?) 来匹配，所以最后的正则表达式就变成了：\n",
    "<li.*?active.*?singer=\"(.*?)\">(.*?)</a>"
   ],
   "metadata": {}
  },
  {
   "cell_type": "code",
   "execution_count": 17,
   "source": [
    "html = '''<div id=\"songs-list\">\n",
    "<h2 class=\"title\"> 经典老歌 </h2>\n",
    "<p class=\"introduction\">\n",
    "经典老歌列表\n",
    "</p>\n",
    "<ul id=\"list\" class=\"list-group\">\n",
    "    <li data-view=\"2\"> 一路上有你 </li>\n",
    "    <li data-view=\"7\">\n",
    "        <a href=\"/2.mp3\" singer=\"任贤齐\"> 沧海一声笑 </a>\n",
    "    </li>\n",
    "    <li data-view=\"4\" class=\"active\">\n",
    "        <a href=\"/3.mp3\" singer=\"齐秦\"> 往事随风 </a>\n",
    "    </li>\n",
    "    <li data-view=\"6\"><a href=\"/4.mp3\" singer=\"beyond\"> 光辉岁月 </a></li>\n",
    "    <li data-view=\"5\"><a href=\"/5.mp3\" singer=\"陈慧琳\"> 记事本 </a></li>\n",
    "    <li data-view=\"5\">\n",
    "        <a href=\"/6.mp3\" singer=\"邓丽君\"> 但愿人长久 </a>\n",
    "    </li>\n",
    "</ul>\n",
    "</div>'''\n",
    "\n",
    "# 1.我们尝试提取 class 为 active 的 li 节点内部的超链接包含的歌手名和歌名\n",
    "result = re.search('<li.*?active.*?singer=\"(.*?)\">(.*?)</a>', html, re.S) \n",
    "if result:  \n",
    "    print(result.group(1), result.group(2))\n",
    "\n",
    "# 2.提取不包含 class 的 li 节点内部的超链接包含的歌手名和歌名\n",
    "result = re.search('<li.*?singer=\"(.*?)\">(.*?)</a>', html, re.S) \n",
    "if result:  \n",
    "    print(result.group(1), result.group(2))\n",
    "\n",
    "# 3.提取不包含 class 的 li 节点内部的超链接包含的歌手名和歌名，且不加修饰符\n",
    "result = re.search('<li.*?singer=\"(.*?)\">(.*?)</a>', html) \n",
    "if result:  \n",
    "    print(result.group(1), result.group(2))"
   ],
   "outputs": [
    {
     "output_type": "stream",
     "name": "stdout",
     "text": [
      "齐秦  往事随风 \n",
      "任贤齐  沧海一声笑 \n",
      "beyond  光辉岁月 \n"
     ]
    }
   ],
   "metadata": {}
  },
  {
   "cell_type": "markdown",
   "source": [
    "由于绝大部分的 HTML 文本都包含了换行符，所以尽量都需要加上 re.S 修饰符，以免出现匹配不到的问题。"
   ],
   "metadata": {}
  },
  {
   "cell_type": "markdown",
   "source": [
    "### 4. findall\n",
    "介绍了 search 方法的用法，它可以返回匹配正则表达式的第一个内容，但是如果想要获取匹配正则表达式的所有内容，就需要用到 findall 了\n",
    "\n",
    "例子：还是上面的 HTML 文本，如果想获取所有 a 节点的超链接、歌手和歌名"
   ],
   "metadata": {}
  },
  {
   "cell_type": "code",
   "execution_count": null,
   "source": [
    "html = '''<div id=\"songs-list\">\n",
    "<h2 class=\"title\"> 经典老歌 </h2>\n",
    "<p class=\"introduction\">\n",
    "经典老歌列表\n",
    "</p>\n",
    "<ul id=\"list\" class=\"list-group\">\n",
    "    <li data-view=\"2\"> 一路上有你 </li>\n",
    "    <li data-view=\"7\">\n",
    "        <a href=\"/2.mp3\" singer=\"任贤齐\"> 沧海一声笑 </a>\n",
    "    </li>\n",
    "    <li data-view=\"4\" class=\"active\">\n",
    "        <a href=\"/3.mp3\" singer=\"齐秦\"> 往事随风 </a>\n",
    "    </li>\n",
    "    <li data-view=\"6\"><a href=\"/4.mp3\" singer=\"beyond\"> 光辉岁月 </a></li>\n",
    "    <li data-view=\"5\"><a href=\"/5.mp3\" singer=\"陈慧琳\"> 记事本 </a></li>\n",
    "    <li data-view=\"5\">\n",
    "        <a href=\"/6.mp3\" singer=\"邓丽君\"> 但愿人长久 </a>\n",
    "    </li>\n",
    "</ul>\n",
    "</div>'''\n",
    "\n"
   ],
   "outputs": [],
   "metadata": {}
  },
  {
   "cell_type": "code",
   "execution_count": 28,
   "source": [
    "results = re.findall('<li.*?href=\"(.*?)\".*?singer=\"(.*?)\">(.*?)</a>', html, re.S)\n",
    "print(results)  \n",
    "print(type(results))  \n",
    "for result in results:  \n",
    "    print(result)  \n",
    "    print(result[0], result[1], result[2])"
   ],
   "outputs": [
    {
     "output_type": "stream",
     "name": "stdout",
     "text": [
      "[('/2.mp3', '任贤齐', ' 沧海一声笑 '), ('/3.mp3', '齐秦', ' 往事随风 '), ('/4.mp3', 'beyond', ' 光辉岁月 '), ('/5.mp3', '陈慧琳', ' 记事本 '), ('/6.mp3', '邓丽君', ' 但愿人长久 ')]\n",
      "<class 'list'>\n",
      "('/2.mp3', '任贤齐', ' 沧海一声笑 ')\n",
      "/2.mp3 任贤齐  沧海一声笑 \n",
      "('/3.mp3', '齐秦', ' 往事随风 ')\n",
      "/3.mp3 齐秦  往事随风 \n",
      "('/4.mp3', 'beyond', ' 光辉岁月 ')\n",
      "/4.mp3 beyond  光辉岁月 \n",
      "('/5.mp3', '陈慧琳', ' 记事本 ')\n",
      "/5.mp3 陈慧琳  记事本 \n",
      "('/6.mp3', '邓丽君', ' 但愿人长久 ')\n",
      "/6.mp3 邓丽君  但愿人长久 \n"
     ]
    }
   ],
   "metadata": {}
  },
  {
   "cell_type": "markdown",
   "source": [
    "可以看到，返回的列表中的每个元素都是元组类型，我们用对应的索引依次取出即可。\n",
    "如果只是获取第一个内容，可以用 search 方法。当需要提取多个内容时，可以用 findall 方法。"
   ],
   "metadata": {}
  },
  {
   "cell_type": "markdown",
   "source": [
    "### 5. sub\n",
    "除了使用正则表达式提取信息外，有时候还需要借助它来修改文本。\n",
    "\n",
    "比如，想要把一串文本中的所有数字都去掉，如果只用字符串的 replace 方法，那就太烦琐了，这时可以借助 sub 方法。示例如下："
   ],
   "metadata": {}
  },
  {
   "cell_type": "code",
   "execution_count": 36,
   "source": [
    "import re\n",
    "\n",
    "content = '54aK54yr5oiR54ix5L2g'\n",
    "# content = re.sub('\\d+', '', content)\n",
    "# content = content.replace('5', '').replace('4', '').replace('2', '')\n",
    "print(content)"
   ],
   "outputs": [
    {
     "output_type": "stream",
     "name": "stdout",
     "text": [
      "aKyroiRixLg\n"
     ]
    }
   ],
   "metadata": {}
  },
  {
   "cell_type": "markdown",
   "source": [
    "### 6. compile\n",
    "前面所讲的方法都是用来处理字符串的方法，compile 方法可以将正则字符串编译成`正则表达式对象`，以便在后面的匹配中`复用`。（主要是可以复用）\n",
    "\n",
    "例子：这里有 3 个日期，我们想分别将 3 个日期中的时间去掉，这时可以借助 sub 方法。该方法的第一个参数是正则表达式，但是这里没有必要重复写 3 个同样的正则表达式（也就不用编译 3 次），此时可以借助 compile 方法将正则表达式编译成一个正则表达式对象，以便复用。"
   ],
   "metadata": {}
  },
  {
   "cell_type": "code",
   "execution_count": null,
   "source": [
    "import re\n",
    "\n",
    "content1 = '2016-12-15 12:00'\n",
    "content2 = '2016-12-17 12:55'\n",
    "content3 = '2016-12-22 13:21'\n",
    "pattern = re.compile('\\d{2}:\\d{2}')\n",
    "result1 = re.sub(pattern, '', content1)\n",
    "result2 = re.sub(pattern, '', content2)\n",
    "result3 = re.sub(pattern, '', content3)\n",
    "print(result1, result2, result3)"
   ],
   "outputs": [],
   "metadata": {}
  }
 ],
 "metadata": {
  "orig_nbformat": 4,
  "language_info": {
   "name": "python",
   "version": "3.7.3",
   "mimetype": "text/x-python",
   "codemirror_mode": {
    "name": "ipython",
    "version": 3
   },
   "pygments_lexer": "ipython3",
   "nbconvert_exporter": "python",
   "file_extension": ".py"
  },
  "kernelspec": {
   "name": "python3",
   "display_name": "Python 3.7.3 64-bit"
  },
  "interpreter": {
   "hash": "31f2aee4e71d21fbe5cf8b01ff0e069b9275f58929596ceb00d14d90e3e16cd6"
  }
 },
 "nbformat": 4,
 "nbformat_minor": 2
}