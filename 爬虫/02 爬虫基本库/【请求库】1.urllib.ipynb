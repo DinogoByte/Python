{
 "cells": [
  {
   "cell_type": "markdown",
   "source": [
    "大纲\n",
    "-\n",
    "1. 基本用法\n",
    "    1. GET 请求\n",
    "        - 基本实例\n",
    "        - 获取 JSON 格式数据（将 JSON 结果转为字典）\n",
    "        - 抓取网页\n",
    "        - 抓取二进制数据\n",
    "    2. POST 请求"
   ],
   "metadata": {}
  },
  {
   "cell_type": "markdown",
   "source": [
    "urllib 库是 Python 内置的 HTTP 请求库，也就是说不需要额外安装即可使用。\n",
    "它包含如下 4 个模块。\n",
    "\n",
    "- request：它是最基本的 HTTP 请求模块，可以用来模拟发送请求。就像在浏览器里输入网址然后回车一样，只需要给库方法传入 URL 以及额外的参数，就可以模拟实现这个过程了。\n",
    "- error：异常处理模块，如果出现请求错误，我们可以捕获这些异常，然后进行重试或其他操作以保证程序不会意外终止。\n",
    "- parse：一个工具模块，提供了许多 URL 处理方法，比如拆分、解析、合并等。\n",
    "- robotparser：主要是用来识别网站的 robots.txt 文件，然后判断哪些网站可以爬，哪些网站不可以爬，它其实用得比较少。\n",
    "\n",
    "\n",
    "### 1. 基本用法"
   ],
   "metadata": {}
  },
  {
   "cell_type": "code",
   "execution_count": null,
   "source": [
    "import urllib.request\n",
    "\n",
    "r = urllib.request.urlopen('https://www.baidu.com/')\n",
    "print('响应:', r)\n",
    "print('响应类型:', type(r))\n",
    "print('状态码:', r.status)\n",
    "print('响应结果', r.reason)\n",
    "print('所有请求头:', r.getheaders())\n",
    "print('单个请求头:', r.getheader('Content-Type'))\n",
    "print('响应内容:', r.read())\n",
    "print('内容类型:', type(r.read()))"
   ],
   "outputs": [],
   "metadata": {}
  },
  {
   "cell_type": "markdown",
   "source": [
    "#### 1.1 GET 请求\n",
    "\n",
    "##### 基本实例\n",
    "首先，构建一个最简单的 GET 请求，请求的链接为 http://httpbin.org/get，该网站会判断如果客户端发起的是 GET 请求的话，它返回相应的请求信息："
   ],
   "metadata": {}
  },
  {
   "cell_type": "code",
   "execution_count": null,
   "source": [
    "import urllib.request\n",
    "\n",
    "r = urllib.request.urlopen('http://httpbin.org/get?name=germey&age=22')\n",
    "print(type(r))\n",
    "# print(r.read())\n",
    "# print(r.read().decode('utf-8'))"
   ],
   "outputs": [],
   "metadata": {}
  },
  {
   "cell_type": "markdown",
   "source": [
    "编码参数"
   ],
   "metadata": {}
  },
  {
   "cell_type": "code",
   "execution_count": null,
   "source": [
    "from urllib import parse\n",
    "from urllib import request\n",
    "\n",
    "data = {  \n",
    "    'name': 'germey',  \n",
    "    'age': 22  \n",
    "}  \n",
    "encoded_args = parse.urlencode(data)\n",
    "print('Encoded:', encoded_args)\n",
    "\n",
    "url = 'http://httpbin.org/get?' + encoded_args\n",
    "r = request.urlopen(url)\n",
    "print(r.read().decode('utf-8'))"
   ],
   "outputs": [],
   "metadata": {}
  },
  {
   "cell_type": "markdown",
   "source": [
    "##### 获取 JSON 格式数据（将 JSON 结果转为字典）"
   ],
   "metadata": {}
  },
  {
   "cell_type": "code",
   "execution_count": null,
   "source": [
    "import json\n",
    "from urllib import parse\n",
    "from urllib import request\n",
    "\n",
    "data = {  \n",
    "    'name': 'germey',  \n",
    "    'age': 22  \n",
    "}\n",
    "\n",
    "url = 'http://httpbin.org/get?' + parse.urlencode(data)\n",
    "r = request.urlopen(url).read().decode('utf-8')\n",
    "# 可以看到结果是字符串\n",
    "print(type(r))\n",
    "dict_res = json.loads(r)\n",
    "print(dict_res)\n",
    "print(dict_res['args'])\n",
    "# 结果已经转换成字典\n",
    "print(type(dict_res))"
   ],
   "outputs": [],
   "metadata": {}
  },
  {
   "cell_type": "markdown",
   "source": [
    "##### 抓取网页"
   ],
   "metadata": {}
  },
  {
   "cell_type": "code",
   "execution_count": null,
   "source": [
    "import urllib.request\n",
    "import re\n",
    "\n",
    "headers = {'User-Agent': 'Mozilla/5.0 (Macintosh; Intel Mac OS X 10_11_4) AppleWebKit/537.36 (KHTML, like Gecko) Chrome/52.0.2743.116 Safari/537.36'\n",
    "}\n",
    "\n",
    "req = urllib.request.Request(\"https://www.zhihu.com/explore\", headers=headers)\n",
    "r = urllib.request.urlopen(req)\n",
    "pattern = re.compile('ExploreSpecialCard-contentTitle.*?>(.*?)</a>', re.S)\n",
    "titles = re.findall(pattern, r.read().decode('utf-8'))\n",
    "print(titles)"
   ],
   "outputs": [],
   "metadata": {}
  },
  {
   "cell_type": "markdown",
   "source": [
    "我们知道利用 `urlopen` 方法可以实现最基本请求的发起，但这几个简单的参数并不足以构建一个完整的请求。如果请求中需要加入 Headers 等信息，就可以利用更强大的 `Request 类`来构建。\n",
    "\n",
    "类参数如下：\n",
    "`class urllib.request.Request(url, data=None, headers={}, origin_req_host=None, unverifiable=False, method=None)`"
   ],
   "metadata": {}
  },
  {
   "cell_type": "markdown",
   "source": [
    "##### 抓取二进制数据"
   ],
   "metadata": {}
  },
  {
   "cell_type": "code",
   "execution_count": null,
   "source": [
    "import urllib.request\n",
    "\n",
    "r = urllib.request.urlopen(\"https://github.com/favicon.ico\")\n",
    "with open('./static/urllib_github.ico', 'wb') as f:\n",
    "    f.write(r.read())"
   ],
   "outputs": [],
   "metadata": {}
  },
  {
   "cell_type": "markdown",
   "source": [
    "#### 1.2 POST 请求\n",
    "第一种需要将编码后的查询参数作为数据传递给 urlopen() 函数"
   ],
   "metadata": {}
  },
  {
   "cell_type": "code",
   "execution_count": null,
   "source": [
    "from urllib import parse\n",
    "from urllib import request\n",
    "\n",
    "data = {'name':'shanks', 'age':36}\n",
    "encoded_args = parse.urlencode(data).encode('utf-8')\n",
    "print(request.urlopen('http://httpbin.org/post', encoded_args).read().decode('utf-8'))"
   ],
   "outputs": [],
   "metadata": {}
  },
  {
   "cell_type": "markdown",
   "source": [
    "第二种需要构造request对象"
   ],
   "metadata": {}
  },
  {
   "cell_type": "code",
   "execution_count": null,
   "source": [
    "import urllib.request\n",
    "\n",
    "data = {'name':'shanks', 'age':36}\n",
    "data = bytes(parse.urlencode(data).encode('utf-8'))\n",
    "req = urllib.request.Request(\"http://httpbin.org/post\", data=data, method='POST')\n",
    "print(urllib.request.urlopen(req).read().decode('utf-8'))"
   ],
   "outputs": [],
   "metadata": {}
  }
 ],
 "metadata": {
  "orig_nbformat": 4,
  "language_info": {
   "name": "python",
   "version": "3.9.6",
   "mimetype": "text/x-python",
   "codemirror_mode": {
    "name": "ipython",
    "version": 3
   },
   "pygments_lexer": "ipython3",
   "nbconvert_exporter": "python",
   "file_extension": ".py"
  },
  "kernelspec": {
   "name": "python3",
   "display_name": "Python 3.9.6 64-bit"
  },
  "interpreter": {
   "hash": "aee8b7b246df8f9039afb4144a1f6fd8d2ca17a180786b69acc140d282b71a49"
  }
 },
 "nbformat": 4,
 "nbformat_minor": 2
}